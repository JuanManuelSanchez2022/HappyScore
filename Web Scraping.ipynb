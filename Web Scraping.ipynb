{
  "nbformat": 4,
  "nbformat_minor": 0,
  "metadata": {
    "colab": {
      "name": "Copy of Copy of webscraping.ipynb",
      "provenance": [],
      "collapsed_sections": [
        "i_FHvPbA-YJ7",
        "s0tHokJm-YJ8",
        "jKdU9-Kf-YKA",
        "pkuTPMP0-YKF",
        "iX-591ri-YKH",
        "AmDUDKM6-YKI",
        "Di2yttac-YKI",
        "eP_J7dSj-YKJ"
      ]
    },
    "kernelspec": {
      "display_name": "Python 3",
      "language": "python",
      "name": "python3"
    },
    "language_info": {
      "codemirror_mode": {
        "name": "ipython",
        "version": 3
      },
      "file_extension": ".py",
      "mimetype": "text/x-python",
      "name": "python",
      "nbconvert_exporter": "python",
      "pygments_lexer": "ipython3",
      "version": "3.8.5"
    },
    "varInspector": {
      "cols": {
        "lenName": 16,
        "lenType": 16,
        "lenVar": 40
      },
      "kernels_config": {
        "python": {
          "delete_cmd_postfix": "",
          "delete_cmd_prefix": "del ",
          "library": "var_list.py",
          "varRefreshCmd": "print(var_dic_list())"
        },
        "r": {
          "delete_cmd_postfix": ") ",
          "delete_cmd_prefix": "rm(",
          "library": "var_list.r",
          "varRefreshCmd": "cat(var_dic_list()) "
        }
      },
      "types_to_exclude": [
        "module",
        "function",
        "builtin_function_or_method",
        "instance",
        "_Feature"
      ],
      "window_display": false
    }
  },
  "cells": [
    {
      "cell_type": "markdown",
      "metadata": {
        "id": "12DFUwA4-YJp"
      },
      "source": [
        "# <font color=green>1. MI PRIMER SCRAPING"
      ]
    },
    {
      "cell_type": "markdown",
      "metadata": {
        "id": "7aa_66LQ-YJw"
      },
      "source": [
        "# 1.1. Introducción"
      ]
    },
    {
      "cell_type": "markdown",
      "metadata": {
        "id": "taOS3N3B-YJx"
      },
      "source": [
        "## *Web Scraping* es el término utilizado para definir la práctica de recolección automática de información en Internet. Esto se hace, generalmente, por medio de programas que simulan la navegación humana en la Web."
      ]
    },
    {
      "cell_type": "markdown",
      "metadata": {
        "id": "7XjDy0Ln-YJy"
      },
      "source": [
        "# 1.2. Ambiente y bibliotecas\n",
        "### Utilizaremos en nuestro entrenamiento el navegador Google Chrome"
      ]
    },
    {
      "cell_type": "code",
      "metadata": {
        "id": "e9pXIMIWByAp"
      },
      "source": [
        "import bs4\n",
        "import urllib.request as urllib_request\n",
        "import pandas\n",
        "\n",
        "print(\"BeautifulSoup ->\", bs4.__version__)\n",
        "print(\"urllib ->\", urllib_request.__version__)\n",
        "print(\"pandas ->\", pandas.__version__)"
      ],
      "execution_count": null,
      "outputs": []
    },
    {
      "cell_type": "markdown",
      "metadata": {
        "id": "5c3DKh9E-YJz"
      },
      "source": [
        "# 1.3. Mi primer scraping"
      ]
    },
    {
      "cell_type": "code",
      "metadata": {
        "id": "amEMrJhX-YJz"
      },
      "source": [
        "from bs4 import BeautifulSoup\n",
        "from urllib.request import urlopen\n",
        "\n",
        "url = \"https://alura-site-scraping.herokuapp.com/hello-world.php\"\n"
      ],
      "execution_count": null,
      "outputs": []
    },
    {
      "cell_type": "code",
      "metadata": {
        "id": "RV14pAg7-YJ0"
      },
      "source": [],
      "execution_count": null,
      "outputs": []
    },
    {
      "cell_type": "markdown",
      "metadata": {
        "id": "hmedze1L-YJ0"
      },
      "source": [
        "---\n",
        "# <font color=green>2. OBTENIENDO Y TRATANDO EL CONTENIDO DE UN HTML"
      ]
    },
    {
      "cell_type": "markdown",
      "metadata": {
        "id": "G41SHkDQ-YJ0"
      },
      "source": [
        "# 2.1. Entendiendo la web"
      ]
    },
    {
      "cell_type": "markdown",
      "metadata": {
        "id": "xcTzpe1X-YJ1"
      },
      "source": [
        "<img src=\"https://github.com/ahcamachod/alura/blob/main/web.PNG?raw=1\" width=\"700\">"
      ]
    },
    {
      "cell_type": "markdown",
      "metadata": {
        "id": "hnYJEiYr-YJ1"
      },
      "source": [
        "# 2.2. Obteniendo el contenido HTML de un website"
      ]
    },
    {
      "cell_type": "markdown",
      "metadata": {
        "id": "-gdi3RxF-YJ1"
      },
      "source": [
        "# urllib.request\n",
        "## https://docs.python.org/3/library/urllib.html"
      ]
    },
    {
      "cell_type": "code",
      "metadata": {
        "id": "c1pKGnTpgvFU"
      },
      "source": [
        "from urllib.request import urlopen\n",
        "\n",
        "url = 'https://carros.tucarro.com.co/atlantico/_all*payment*methods*discount_cash*discount'\n",
        "\n"
      ],
      "execution_count": null,
      "outputs": []
    },
    {
      "cell_type": "markdown",
      "metadata": {
        "id": "GydHpbB5-YJ2"
      },
      "source": [
        "## https://docs.python.org/3/library/urllib.request.html#urllib.request.Request"
      ]
    },
    {
      "cell_type": "code",
      "metadata": {
        "id": "UcwnBFru-YJ2"
      },
      "source": [
        "from urllib.request import Request, urlopen\n",
        "from urllib.error import URLError, HTTPError\n",
        "\n",
        "url = 'https://www.alura.com.br'\n"
      ],
      "execution_count": null,
      "outputs": []
    },
    {
      "cell_type": "markdown",
      "metadata": {
        "id": "Mx3YmS7f-YJ2"
      },
      "source": [
        "# 2.3. Tratamiento de string"
      ]
    },
    {
      "cell_type": "code",
      "metadata": {
        "id": "Ax-dGjUn-YJ2"
      },
      "source": [
        "from urllib.request import urlopen\n",
        "\n",
        "url = \"https://carros.tucarro.com.co/atlantico/_all*payment*methods*discount_cash*discount\"\n",
        "\n"
      ],
      "execution_count": null,
      "outputs": []
    },
    {
      "cell_type": "markdown",
      "metadata": {
        "id": "SqtEwaTAVkkU"
      },
      "source": []
    },
    {
      "cell_type": "markdown",
      "metadata": {
        "id": "WaYaYkEm-YJ3"
      },
      "source": [
        "### Convirtiendo el tipo bytes a string"
      ]
    },
    {
      "cell_type": "code",
      "metadata": {
        "id": "KaoMUyst-YJ3"
      },
      "source": [],
      "execution_count": null,
      "outputs": []
    },
    {
      "cell_type": "markdown",
      "metadata": {
        "id": "uupWIxuI-YJ3"
      },
      "source": [
        "### Eliminando los caracteres de tabulación, salto de línea etc."
      ]
    },
    {
      "cell_type": "code",
      "metadata": {
        "scrolled": true,
        "id": "S1hEdriC-YJ3"
      },
      "source": [],
      "execution_count": null,
      "outputs": []
    },
    {
      "cell_type": "markdown",
      "metadata": {
        "id": "wG0n7pSP-YJ4"
      },
      "source": [
        "### Eliminando los espacios en blanco entre las TAGS"
      ]
    },
    {
      "cell_type": "code",
      "metadata": {
        "scrolled": true,
        "id": "cxCfbOxp-YJ4"
      },
      "source": [],
      "execution_count": null,
      "outputs": []
    },
    {
      "cell_type": "markdown",
      "metadata": {
        "id": "GJQh5YFD-YJ4"
      },
      "source": [
        "### Función de tratamiento de strings"
      ]
    },
    {
      "cell_type": "code",
      "metadata": {
        "scrolled": true,
        "id": "i1EW0iPL-YJ4"
      },
      "source": [
        "\n"
      ],
      "execution_count": null,
      "outputs": []
    },
    {
      "cell_type": "markdown",
      "metadata": {
        "id": "fba046yhegnN"
      },
      "source": [
        "# <font color=green>3. INTRODUCCIÓN AL BEAUTIFULSOUP"
      ]
    },
    {
      "cell_type": "markdown",
      "metadata": {
        "id": "ToF0LOOfemaG"
      },
      "source": [
        "# 3.1. HTML de nuestra página"
      ]
    },
    {
      "cell_type": "markdown",
      "metadata": {
        "id": "VIcBvmK1-YJ5"
      },
      "source": [
        "**HTML** (*HyperText Markup Language*) es un lenguaje de marcación compuesto por **tags** que determinan el papel que cada parte del documento va a asumir. Las **tags** son formadas por su nombre y atributos. Los atributos sirven para configurar y también modificar las características estándar de una **tag**.\n",
        "\n",
        "## Estructura básica\n",
        "\n",
        "```html\n",
        "<html>\n",
        "    <head>\n",
        "        <meta charset=\"utf-8\" />\n",
        "        <title>Web Scraping con Alura</title>\n",
        "    </head>\n",
        "    <body>\n",
        "        <div id=\"container\">\n",
        "            <h1>Alura</h1>\n",
        "            <h2 class=\"formato\">Cursos de Tecnología</h2>\n",
        "            <p>Usted va a estudiar, practicar, discutir y aprender.</p>\n",
        "            <a href=\"https://www.alura.com.br/\">Haga click aquí</a>\n",
        "        </div>\n",
        "    </body>\n",
        "</html>\n",
        "```\n",
        "\n",
        "```<html>``` - determina el inicio del documento.\n",
        "\n",
        "```<head>``` - encabezado. Contiene información y configuración del documento.\n",
        "\n",
        "```<body>``` - es el cuerpo del documento, donde todo el contenido es colocado. Esta es la parte visible en un navegador.\n",
        "\n",
        "## Tags más comunes\n",
        "\n",
        "```<div>``` - define una división de la página. Puede ser formateada de diversas maneras.\n",
        "\n",
        "```<h1>, <h2>, <h3>, <h4>, <h5>, <h6>``` - marcadores de títulos.\n",
        "\n",
        "```<p>``` - marcador de párrafo.\n",
        "\n",
        "```<a>``` - hiperlink.\n",
        "\n",
        "```<img>``` - exibición de imágenes.\n",
        "\n",
        "```<table>``` - definición de tablas.\n",
        "\n",
        "```<ul>, <li>``` - definición de listas.\n"
      ]
    },
    {
      "cell_type": "markdown",
      "metadata": {
        "id": "Kj94EgvFwogH"
      },
      "source": []
    },
    {
      "cell_type": "markdown",
      "metadata": {
        "id": "FK32Zn2d-YJ5"
      },
      "source": [
        "# 3.2. Creando un objeto BeautifulSoup"
      ]
    },
    {
      "cell_type": "markdown",
      "metadata": {
        "id": "fYFk-94s-YJ6"
      },
      "source": [
        "## https://www.crummy.com/software/BeautifulSoup/\n",
        "\n",
        "### Sobre parser ver: https://www.crummy.com/software/BeautifulSoup/bs4/doc/#parser-installation"
      ]
    },
    {
      "cell_type": "code",
      "metadata": {
        "scrolled": true,
        "id": "PTdk10aZ-YJ6"
      },
      "source": [
        "from bs4 import BeautifulSoup\n"
      ],
      "execution_count": null,
      "outputs": []
    },
    {
      "cell_type": "markdown",
      "metadata": {
        "id": "a4kvXQLt-YJ6"
      },
      "source": [
        "# 3.3. Accesando tags"
      ]
    },
    {
      "cell_type": "code",
      "metadata": {
        "id": "Usbv6Y5XK36Y"
      },
      "source": [],
      "execution_count": null,
      "outputs": []
    },
    {
      "cell_type": "code",
      "metadata": {
        "id": "sJCZZzxX-YJ6"
      },
      "source": [],
      "execution_count": null,
      "outputs": []
    },
    {
      "cell_type": "code",
      "metadata": {
        "id": "g6r-w-NgK22O"
      },
      "source": [],
      "execution_count": null,
      "outputs": []
    },
    {
      "cell_type": "code",
      "metadata": {
        "id": "q4b1ly_wK3o-"
      },
      "source": [],
      "execution_count": null,
      "outputs": []
    },
    {
      "cell_type": "markdown",
      "metadata": {
        "id": "9g8pnwMa-YJ6"
      },
      "source": [
        "# 3.4. Accesando el contenido de las tags"
      ]
    },
    {
      "cell_type": "code",
      "metadata": {
        "id": "eVrfUOrX-YJ7"
      },
      "source": [],
      "execution_count": null,
      "outputs": []
    },
    {
      "cell_type": "code",
      "metadata": {
        "id": "zanouznzOT1M"
      },
      "source": [],
      "execution_count": null,
      "outputs": []
    },
    {
      "cell_type": "code",
      "metadata": {
        "id": "DeXxKj2yOT3P"
      },
      "source": [],
      "execution_count": null,
      "outputs": []
    },
    {
      "cell_type": "code",
      "metadata": {
        "id": "-d89Ko0GOT5y"
      },
      "source": [],
      "execution_count": null,
      "outputs": []
    },
    {
      "cell_type": "code",
      "metadata": {
        "id": "24yiauegOT9V"
      },
      "source": [],
      "execution_count": null,
      "outputs": []
    },
    {
      "cell_type": "markdown",
      "metadata": {
        "id": "fEAjj5cX-YJ7"
      },
      "source": [
        "# 3.5. Accesando los atributos de una tag"
      ]
    },
    {
      "cell_type": "code",
      "metadata": {
        "id": "6xCJkbaV-YJ7"
      },
      "source": [],
      "execution_count": null,
      "outputs": []
    },
    {
      "cell_type": "code",
      "metadata": {
        "id": "79yPMvmid5Ry"
      },
      "source": [],
      "execution_count": null,
      "outputs": []
    },
    {
      "cell_type": "code",
      "metadata": {
        "id": "luMMJz4demdZ"
      },
      "source": [],
      "execution_count": null,
      "outputs": []
    },
    {
      "cell_type": "code",
      "metadata": {
        "id": "uCQNKFGdeuPY"
      },
      "source": [],
      "execution_count": null,
      "outputs": []
    },
    {
      "cell_type": "code",
      "metadata": {
        "id": "hveoICgYd5Uu"
      },
      "source": [],
      "execution_count": null,
      "outputs": []
    },
    {
      "cell_type": "code",
      "metadata": {
        "id": "4IrdXyFNd5W1"
      },
      "source": [],
      "execution_count": null,
      "outputs": []
    },
    {
      "cell_type": "markdown",
      "metadata": {
        "id": "i_FHvPbA-YJ7"
      },
      "source": [
        "---\n",
        "# <font color=green>4. BUSCANDO CON EL BEAUTIFULSOUP"
      ]
    },
    {
      "cell_type": "markdown",
      "metadata": {
        "id": "E7XhWEfN-YJ7"
      },
      "source": [
        "# 4.1. Los métodos *find()* y *findAll()*"
      ]
    },
    {
      "cell_type": "markdown",
      "metadata": {
        "id": "s0tHokJm-YJ8"
      },
      "source": [
        "- ### *find(tag, attributes, recursive, text, **kwargs)*\n",
        "\n",
        "- ### *findAll(tag, attributes, recursive, text, limit, **kwargs)*\n",
        "\n",
        "#### https://www.crummy.com/software/BeautifulSoup/bs4/doc/#find\n",
        "#### https://www.crummy.com/software/BeautifulSoup/bs4/doc/#find-all\n",
        "\n",
        "> **Observación:**\n",
        "> - *findAll()* también puede ser utilizado como *find_all()*"
      ]
    },
    {
      "cell_type": "markdown",
      "metadata": {
        "id": "3mPdvFw7-YJ8"
      },
      "source": [
        "### Método *find()*"
      ]
    },
    {
      "cell_type": "code",
      "metadata": {
        "id": "0fOCcjk7-YJ8"
      },
      "source": [],
      "execution_count": null,
      "outputs": []
    },
    {
      "cell_type": "markdown",
      "metadata": {
        "id": "0dBoaLQd-YJ8"
      },
      "source": [
        "### Método *findAll()*"
      ]
    },
    {
      "cell_type": "code",
      "metadata": {
        "id": "ZwATGogd-YJ9"
      },
      "source": [],
      "execution_count": null,
      "outputs": []
    },
    {
      "cell_type": "code",
      "metadata": {
        "id": "BmfhHCGGnllc"
      },
      "source": [],
      "execution_count": null,
      "outputs": []
    },
    {
      "cell_type": "markdown",
      "metadata": {
        "id": "Ab2KvCqw-YJ9"
      },
      "source": [
        "### Comando equivalente al método *find()*"
      ]
    },
    {
      "cell_type": "code",
      "metadata": {
        "id": "RDpOjhcs-YJ9"
      },
      "source": [],
      "execution_count": null,
      "outputs": []
    },
    {
      "cell_type": "markdown",
      "metadata": {
        "id": "3vt_qXkm-YJ9"
      },
      "source": [
        "### Atajo para el método *findAll()*"
      ]
    },
    {
      "cell_type": "code",
      "metadata": {
        "id": "6eHOD2Cg-YJ9"
      },
      "source": [],
      "execution_count": null,
      "outputs": []
    },
    {
      "cell_type": "markdown",
      "metadata": {
        "id": "rcNtvXEg-YJ9"
      },
      "source": [
        "### Pasando listas de TAGs"
      ]
    },
    {
      "cell_type": "code",
      "metadata": {
        "id": "KUs7kosn-YJ-"
      },
      "source": [],
      "execution_count": null,
      "outputs": []
    },
    {
      "cell_type": "markdown",
      "metadata": {
        "id": "vTR4Xf91-YJ-"
      },
      "source": [
        "### Utilizando el argumento *attributes*"
      ]
    },
    {
      "cell_type": "code",
      "metadata": {
        "scrolled": true,
        "id": "FYWcHfXO-YJ-"
      },
      "source": [],
      "execution_count": null,
      "outputs": []
    },
    {
      "cell_type": "markdown",
      "metadata": {
        "id": "3pbEtRbd-YJ-"
      },
      "source": [
        "### Buscando el contenido de una TAG"
      ]
    },
    {
      "cell_type": "code",
      "metadata": {
        "id": "OyBesJGp-YJ-"
      },
      "source": [],
      "execution_count": null,
      "outputs": []
    },
    {
      "cell_type": "code",
      "metadata": {
        "id": "-OW-guedr7CO"
      },
      "source": [],
      "execution_count": null,
      "outputs": []
    },
    {
      "cell_type": "markdown",
      "metadata": {
        "id": "ywbbjaM6-YJ_"
      },
      "source": [
        "### Utilizando directamente los atributos"
      ]
    },
    {
      "cell_type": "code",
      "metadata": {
        "id": "HKNbfpC5-YJ_"
      },
      "source": [],
      "execution_count": null,
      "outputs": []
    },
    {
      "cell_type": "markdown",
      "metadata": {
        "id": "9I4BgkIw-YJ_"
      },
      "source": [
        "### Cuidado con el atributo \"class\""
      ]
    },
    {
      "cell_type": "code",
      "metadata": {
        "id": "7qvpyz2l-YJ_"
      },
      "source": [],
      "execution_count": null,
      "outputs": []
    },
    {
      "cell_type": "markdown",
      "metadata": {
        "id": "rXAsxAAE-YJ_"
      },
      "source": [
        "### Obteniendo todo el contenido de texto de una página"
      ]
    },
    {
      "cell_type": "code",
      "metadata": {
        "id": "roQA57J6-YKA"
      },
      "source": [],
      "execution_count": null,
      "outputs": []
    },
    {
      "cell_type": "markdown",
      "metadata": {
        "id": "5y4ffFVe-YKA"
      },
      "source": [
        "# 4.2. Otros métodos de búsqueda"
      ]
    },
    {
      "cell_type": "markdown",
      "metadata": {
        "id": "jKdU9-Kf-YKA"
      },
      "source": [
        "- ### *findParent(tag, attributes, text, **kwargs)*\n",
        "\n",
        "- ### *findParents(tag, attributes, text, limit, **kwargs)*\n",
        "\n",
        "#### https://www.crummy.com/software/BeautifulSoup/bs4/doc/#find-parents-and-find-parent\n",
        "\n",
        "> **Observación:**\n",
        "> - *findParent()* y *findParents()* también pueden ser utilizados como *find_parent()* y *find_parents()*, respectivamente.\n",
        "---\n",
        "- ### *findNextSibling(tag, attributes, text, **kwargs)*\n",
        "\n",
        "- ### *findNextSiblings(tag, attributes, text, limit, **kwargs)*\n",
        "\n",
        "- ### *findPreviousSibling(tag, attributes, text, **kwargs)*\n",
        "\n",
        "- ### *findPreviousSiblings(tag, attributes, text, limit, **kwargs)*\n",
        "\n",
        "#### https://www.crummy.com/software/BeautifulSoup/bs4/doc/#find-next-siblings-and-find-next-sibling\n",
        "#### https://www.crummy.com/software/BeautifulSoup/bs4/doc/#find-previous-siblings-and-find-previous-sibling\n",
        "\n",
        "> **Observación:**\n",
        "> - *findNextSibling()*, *findNextSiblings()*, *findPreviousSibling()* y *findPreviousSiblings()* también pueden ser utilizados como *find_next_sibling()*, *find_next_siblings()*, *find_previous_sibling()* y *find_previous_siblings()*, respectivamente.\n",
        "---\n",
        "- ### *findNext(tag, attributes, text, **kwargs)*\n",
        "\n",
        "- ### *findAllNext(tag, attributes, text, limit, **kwargs)*\n",
        "\n",
        "- ### *findPrevious(tag, attributes, text, **kwargs)*\n",
        "\n",
        "- ### *findAllPrevious(tag, attributes, text, limit, **kwargs)*\n",
        "\n",
        "#### https://www.crummy.com/software/BeautifulSoup/bs4/doc/#find-all-next-and-find-next\n",
        "#### https://www.crummy.com/software/BeautifulSoup/bs4/doc/#find-all-previous-and-find-previous\n",
        "\n",
        "> **Observación:**\n",
        "> - *findNext()*, *findAllNext()*, *findPrevious* y *findAllPrevious* también pueden ser utilizados como *find_next()*, *find_all_next()*, *find_previous()* y *find_all_previous()*, respectivamente."
      ]
    },
    {
      "cell_type": "markdown",
      "metadata": {
        "id": "6df1DgjE-YKA"
      },
      "source": [
        "## HTML de ejemplo para ilustrar la utilización de los métodos de búsqueda del BeautifulSoup"
      ]
    },
    {
      "cell_type": "markdown",
      "metadata": {
        "id": "xR3VfPbB-YKB"
      },
      "source": [
        "<img src=\"https://caelum-online-public.s3.amazonaws.com/1381-scraping/01/BeautifulSoup-method.png\" width=80%>"
      ]
    },
    {
      "cell_type": "markdown",
      "metadata": {
        "id": "-GIwkDcN-YKB"
      },
      "source": [
        "---\n",
        "## Resultado"
      ]
    },
    {
      "cell_type": "markdown",
      "metadata": {
        "id": "QJ4MQeXQ-YKB"
      },
      "source": [
        "<html>\n",
        "    <body>\n",
        "        <div id=“container-a”>\n",
        "            <h1>Título A</h1>\n",
        "            <h2 class=\"ref-a\">Sub título A</h2>\n",
        "            <p>Texto de contenido A</p>\n",
        "        </div>\n",
        "        <div id=“container-b”>\n",
        "            <h1>Título B</h1>\n",
        "            <h2 class=\"ref-b\">Sub título B</h2>\n",
        "            <p>Texto de contenido B</p>\n",
        "        </div>\n",
        "    </body>\n",
        "</html>"
      ]
    },
    {
      "cell_type": "code",
      "metadata": {
        "id": "NO_q0IaC-YKB"
      },
      "source": [
        "test_html = \"\"\" <html>\n",
        "    <body>\n",
        "        <div id=“container-a”>\n",
        "            <h1>Título A</h1>\n",
        "            <h2 class=\"ref-a\">Sub título A</h2>\n",
        "            <p>Texto de contenido A</p>\n",
        "        </div>\n",
        "        <div id=“container-b”>\n",
        "            <h1>Título B</h1>\n",
        "            <h2 class=\"ref-b\">Sub título B</h2>\n",
        "            <p>Texto de contenido B</p>\n",
        "        </div>\n",
        "    </body>\n",
        "</html> \"\"\""
      ],
      "execution_count": null,
      "outputs": []
    },
    {
      "cell_type": "markdown",
      "metadata": {
        "id": "kR0HlM-8-YKC"
      },
      "source": [
        "### Tratamientos para la string HTML"
      ]
    },
    {
      "cell_type": "code",
      "metadata": {
        "id": "Ti_dKjIa-YKC"
      },
      "source": [],
      "execution_count": null,
      "outputs": []
    },
    {
      "cell_type": "markdown",
      "metadata": {
        "id": "HfAB_zTi-YKC"
      },
      "source": [
        "### Creando el objeto BeautifulSoup"
      ]
    },
    {
      "cell_type": "code",
      "metadata": {
        "scrolled": true,
        "id": "m1-GcBjM-YKC"
      },
      "source": [],
      "execution_count": null,
      "outputs": []
    },
    {
      "cell_type": "markdown",
      "metadata": {
        "id": "G4TwfSD9-YKC"
      },
      "source": [
        "## Parents"
      ]
    },
    {
      "cell_type": "code",
      "metadata": {
        "id": "lol7mBnh-YKD"
      },
      "source": [
        "\n"
      ],
      "execution_count": null,
      "outputs": []
    },
    {
      "cell_type": "code",
      "metadata": {
        "id": "rV3qOQ5J3cx4"
      },
      "source": [],
      "execution_count": null,
      "outputs": []
    },
    {
      "cell_type": "code",
      "metadata": {
        "id": "YpR8eUm63zgQ"
      },
      "source": [],
      "execution_count": null,
      "outputs": []
    },
    {
      "cell_type": "code",
      "metadata": {
        "id": "y7Q9Rp2i32KT"
      },
      "source": [],
      "execution_count": null,
      "outputs": []
    },
    {
      "cell_type": "markdown",
      "metadata": {
        "id": "Dpq2Pjso-YKD"
      },
      "source": [
        "## Siblings"
      ]
    },
    {
      "cell_type": "code",
      "metadata": {
        "id": "XRQJpLZ6309V"
      },
      "source": [],
      "execution_count": null,
      "outputs": []
    },
    {
      "cell_type": "code",
      "metadata": {
        "id": "7c_ZCOLO-YKD"
      },
      "source": [],
      "execution_count": null,
      "outputs": []
    },
    {
      "cell_type": "code",
      "metadata": {
        "id": "y6ubE66y-YKD"
      },
      "source": [],
      "execution_count": null,
      "outputs": []
    },
    {
      "cell_type": "markdown",
      "metadata": {
        "id": "IITxc4sN-YKD"
      },
      "source": [
        "## Next y Previous"
      ]
    },
    {
      "cell_type": "code",
      "metadata": {
        "id": "xe5YKTT86TJD"
      },
      "source": [],
      "execution_count": null,
      "outputs": []
    },
    {
      "cell_type": "code",
      "metadata": {
        "id": "k9RIf9A26TMI"
      },
      "source": [],
      "execution_count": null,
      "outputs": []
    },
    {
      "cell_type": "code",
      "metadata": {
        "id": "HNBNWgRl6eyO"
      },
      "source": [],
      "execution_count": null,
      "outputs": []
    },
    {
      "cell_type": "markdown",
      "metadata": {
        "id": "Ol8oGWm6-YKE"
      },
      "source": [
        "# <font color=green>5. WEB SCRAPING DEL SITE TUCARRO.COM.CO - OBTENIENDO LOS DATOS DE UN ANUNCIO"
      ]
    },
    {
      "cell_type": "markdown",
      "metadata": {
        "id": "hlCLPEWD-YKE"
      },
      "source": [
        "# 5.1. Identificando y seleccionando los datos en el HTML"
      ]
    },
    {
      "cell_type": "markdown",
      "metadata": {
        "id": "paXBTEHG-YKE"
      },
      "source": [
        "### Obteniendo el HTML y creando el objeto BeautifulSoup"
      ]
    },
    {
      "cell_type": "code",
      "metadata": {
        "id": "tyzzrZjDJign"
      },
      "source": [
        "from urllib.request import urlopen\n",
        "from bs4 import BeautifulSoup\n",
        "\n",
        "url = \"https://carros.tucarro.com.co/atlantico/_all*payment*methods*discount_cash*discount\"\n"
      ],
      "execution_count": null,
      "outputs": []
    },
    {
      "cell_type": "markdown",
      "metadata": {
        "id": "iwnZ2aKs-YKE"
      },
      "source": [
        "### Creando variables para almacenar la información"
      ]
    },
    {
      "cell_type": "code",
      "metadata": {
        "id": "jbbtNHspSxbq"
      },
      "source": [],
      "execution_count": null,
      "outputs": []
    },
    {
      "cell_type": "markdown",
      "metadata": {
        "id": "pkuTPMP0-YKF"
      },
      "source": [
        "### Obteniendo los datos del primer CARD"
      ]
    },
    {
      "cell_type": "code",
      "metadata": {
        "scrolled": false,
        "id": "nAGRX2UT-YKF"
      },
      "source": [],
      "execution_count": null,
      "outputs": []
    },
    {
      "cell_type": "markdown",
      "metadata": {
        "id": "Z0UiLQU--YKF"
      },
      "source": [
        "# 5.2. Obteniendo el MODELO del vehículo anunciado"
      ]
    },
    {
      "cell_type": "code",
      "metadata": {
        "id": "hBFax-Dg-YKF"
      },
      "source": [],
      "execution_count": null,
      "outputs": []
    },
    {
      "cell_type": "code",
      "metadata": {
        "id": "7932YkbaddLf"
      },
      "source": [],
      "execution_count": null,
      "outputs": []
    },
    {
      "cell_type": "code",
      "metadata": {
        "id": "rPNGzDz6ddvP"
      },
      "source": [],
      "execution_count": null,
      "outputs": []
    },
    {
      "cell_type": "code",
      "metadata": {
        "id": "G3X0ePWKdd-z"
      },
      "source": [],
      "execution_count": null,
      "outputs": []
    },
    {
      "cell_type": "markdown",
      "metadata": {
        "id": "rTXfrqzA-YKG"
      },
      "source": [
        "### <font color=red>Resumen"
      ]
    },
    {
      "cell_type": "code",
      "metadata": {
        "id": "7IXid313-YKG"
      },
      "source": [
        "# Modelo\n"
      ],
      "execution_count": null,
      "outputs": []
    },
    {
      "cell_type": "markdown",
      "metadata": {
        "id": "HOLcyjI1-YKG"
      },
      "source": [
        "# 5.3. Obteniendo la INFORMACIÓN sobre el vehículo anunciado"
      ]
    },
    {
      "cell_type": "code",
      "metadata": {
        "id": "QQ0Y0vIxls2C"
      },
      "source": [],
      "execution_count": null,
      "outputs": []
    },
    {
      "cell_type": "code",
      "metadata": {
        "id": "k5EBvd7NltBu"
      },
      "source": [],
      "execution_count": null,
      "outputs": []
    },
    {
      "cell_type": "code",
      "metadata": {
        "id": "LkjZtgoZ6Zke"
      },
      "source": [],
      "execution_count": null,
      "outputs": []
    },
    {
      "cell_type": "code",
      "metadata": {
        "id": "8fzlbJLU8BRC"
      },
      "source": [],
      "execution_count": null,
      "outputs": []
    },
    {
      "cell_type": "code",
      "metadata": {
        "id": "0MVhxuXq8BdZ"
      },
      "source": [],
      "execution_count": null,
      "outputs": []
    },
    {
      "cell_type": "code",
      "metadata": {
        "id": "zLtlPyP88O5h"
      },
      "source": [],
      "execution_count": null,
      "outputs": []
    },
    {
      "cell_type": "markdown",
      "metadata": {
        "id": "uO7h11qK-YKG"
      },
      "source": [
        "### <font color=red>Resumen"
      ]
    },
    {
      "cell_type": "code",
      "metadata": {
        "id": "cIfuAdCm-YKH"
      },
      "source": [
        "# Información\n"
      ],
      "execution_count": null,
      "outputs": []
    },
    {
      "cell_type": "markdown",
      "metadata": {
        "id": "iX-591ri-YKH"
      },
      "source": [
        "# 5.4 Creando un DataFrame con los datos recolectados de TUCARRO.COM.CO"
      ]
    },
    {
      "cell_type": "code",
      "metadata": {
        "id": "3QTpmG6WTWR9"
      },
      "source": [],
      "execution_count": null,
      "outputs": []
    },
    {
      "cell_type": "code",
      "metadata": {
        "id": "mOerdmlPTWVJ"
      },
      "source": [],
      "execution_count": null,
      "outputs": []
    },
    {
      "cell_type": "code",
      "metadata": {
        "id": "_NSJy_mPTWaa"
      },
      "source": [],
      "execution_count": null,
      "outputs": []
    },
    {
      "cell_type": "code",
      "metadata": {
        "id": "8QMwXjHuTWcL"
      },
      "source": [],
      "execution_count": null,
      "outputs": []
    },
    {
      "cell_type": "code",
      "metadata": {
        "id": "Bt6AEQzPUdL3"
      },
      "source": [],
      "execution_count": null,
      "outputs": []
    },
    {
      "cell_type": "markdown",
      "metadata": {
        "id": "C1rFSdkX-YKH"
      },
      "source": [
        "# 5.6. Obteniendo la FOTO del anuncio"
      ]
    },
    {
      "cell_type": "code",
      "metadata": {
        "id": "h3wmw3y5Kx3c"
      },
      "source": [],
      "execution_count": null,
      "outputs": []
    },
    {
      "cell_type": "markdown",
      "metadata": {
        "id": "AmDUDKM6-YKI"
      },
      "source": [
        "### Visualizando la FOTO en el notebook (extra)"
      ]
    },
    {
      "cell_type": "code",
      "metadata": {
        "id": "g_0ZbjUH-YKI"
      },
      "source": [
        "from IPython.core.display import display, HTML\n",
        "\n",
        "display(HTML(\"<img src=\" + anuncio.find('img').get('data-src') + \">\"))"
      ],
      "execution_count": null,
      "outputs": []
    },
    {
      "cell_type": "markdown",
      "metadata": {
        "id": "Di2yttac-YKI"
      },
      "source": [
        "### Rutina para accesar y guardar la FOTO del anuncio"
      ]
    },
    {
      "cell_type": "markdown",
      "metadata": {
        "id": "ig9pdHHq-YKI"
      },
      "source": [
        "## https://docs.python.org/3/library/urllib.request.html#urllib.request.urlretrieve"
      ]
    },
    {
      "cell_type": "code",
      "metadata": {
        "id": "IfC0udX0-YKI"
      },
      "source": [
        "from urllib.request import urlretrieve\n"
      ],
      "execution_count": null,
      "outputs": []
    },
    {
      "cell_type": "code",
      "metadata": {
        "id": "5Qrj_hWMbtKm"
      },
      "source": [],
      "execution_count": null,
      "outputs": []
    },
    {
      "cell_type": "code",
      "metadata": {
        "id": "X9kAC7jxfUxT"
      },
      "source": [],
      "execution_count": null,
      "outputs": []
    },
    {
      "cell_type": "markdown",
      "metadata": {
        "id": "M1IrUPjD-YKJ"
      },
      "source": [
        "### <font color=red>Resumen"
      ]
    },
    {
      "cell_type": "code",
      "metadata": {
        "id": "lIGRXwFo-YKJ"
      },
      "source": [],
      "execution_count": null,
      "outputs": []
    },
    {
      "cell_type": "markdown",
      "metadata": {
        "id": "eP_J7dSj-YKJ"
      },
      "source": [
        "# <font color=green>6. WEB SCRAPING DEL SITE TUCARRO.COM.CO - OBTENIENDO LOS DATOS DE TODOS LOS ANUNCIOS DE UNA PÁGINA"
      ]
    },
    {
      "cell_type": "markdown",
      "metadata": {
        "id": "Xtc08Ks--YKJ"
      },
      "source": [
        "# 6.1. Identificando la información en el HTML"
      ]
    },
    {
      "cell_type": "code",
      "metadata": {
        "scrolled": true,
        "id": "HusWoqpT-YKJ"
      },
      "source": [],
      "execution_count": null,
      "outputs": []
    },
    {
      "cell_type": "code",
      "metadata": {
        "id": "ZCx5H8E6iVkl"
      },
      "source": [],
      "execution_count": null,
      "outputs": []
    },
    {
      "cell_type": "code",
      "metadata": {
        "id": "YTONnuDdiVv0"
      },
      "source": [],
      "execution_count": null,
      "outputs": []
    },
    {
      "cell_type": "markdown",
      "metadata": {
        "id": "f2KaaKBC-YKK"
      },
      "source": [
        "# 6.2. Creando una rutina de scraping"
      ]
    },
    {
      "cell_type": "code",
      "metadata": {
        "id": "xiClscnck7rt"
      },
      "source": [
        "from urllib.request import urlopen, urlretrieve\n",
        "from bs4 import BeautifulSoup\n",
        "import pandas as pd\n",
        "\n",
        "url = \"https://carros.tucarro.com.co/atlantico/_all*payment*methods*discount_cash*discount\"\n",
        "\n"
      ],
      "execution_count": null,
      "outputs": []
    },
    {
      "cell_type": "code",
      "metadata": {
        "id": "cNyR169Bk725"
      },
      "source": [],
      "execution_count": null,
      "outputs": []
    },
    {
      "cell_type": "code",
      "metadata": {
        "id": "3uyaty57k75V"
      },
      "source": [],
      "execution_count": null,
      "outputs": []
    },
    {
      "cell_type": "code",
      "metadata": {
        "id": "y7wuniGJpIoU"
      },
      "source": [],
      "execution_count": null,
      "outputs": []
    },
    {
      "cell_type": "markdown",
      "metadata": {
        "id": "9yByfCwU-YKK"
      },
      "source": [
        "# <font color=green>7. WEB SCRAPING DEL SITE TUCARRO.COM.CO - OBTENIENDO LOS DATOS DE TODOS LOS ANUNCIOS DE UNA PÁGINA"
      ]
    },
    {
      "cell_type": "markdown",
      "metadata": {
        "id": "_ywEoZxi-YKK"
      },
      "source": [
        "# 7.1. Identificando la información en el HTML"
      ]
    },
    {
      "cell_type": "code",
      "metadata": {
        "id": "I7ZEMZvru9sq"
      },
      "source": [],
      "execution_count": null,
      "outputs": []
    },
    {
      "cell_type": "code",
      "metadata": {
        "id": "Yo36jlVkvAcF"
      },
      "source": [],
      "execution_count": null,
      "outputs": []
    },
    {
      "cell_type": "markdown",
      "metadata": {
        "id": "uFZLc1jOvpkz"
      },
      "source": [
        "# 7.2. Montando un drive para almacenar la información"
      ]
    },
    {
      "cell_type": "code",
      "metadata": {
        "id": "8CFHUVAu75Tt"
      },
      "source": [],
      "execution_count": null,
      "outputs": []
    },
    {
      "cell_type": "code",
      "metadata": {
        "id": "Mp04bRwwvzjK"
      },
      "source": [],
      "execution_count": null,
      "outputs": []
    },
    {
      "cell_type": "markdown",
      "metadata": {
        "id": "EOnMHGCG-YKL"
      },
      "source": [
        "# 7.3. Creando una rutina de scraping"
      ]
    },
    {
      "cell_type": "markdown",
      "metadata": {
        "id": "aOpJfrAs0qVS"
      },
      "source": [
        "##https://docs.python.org/3/library/time.html"
      ]
    },
    {
      "cell_type": "code",
      "metadata": {
        "id": "tatOUc2i-YKL"
      },
      "source": [],
      "execution_count": null,
      "outputs": []
    },
    {
      "cell_type": "code",
      "metadata": {
        "id": "kkJPa0AduMSI"
      },
      "source": [],
      "execution_count": null,
      "outputs": []
    },
    {
      "cell_type": "code",
      "metadata": {
        "id": "87mdA-PGuMUw"
      },
      "source": [],
      "execution_count": null,
      "outputs": []
    },
    {
      "cell_type": "code",
      "metadata": {
        "id": "dFtYborRA0yG"
      },
      "source": [],
      "execution_count": null,
      "outputs": []
    },
    {
      "cell_type": "code",
      "metadata": {
        "id": "bJAEHbsquMYY"
      },
      "source": [],
      "execution_count": null,
      "outputs": []
    }
  ]
}